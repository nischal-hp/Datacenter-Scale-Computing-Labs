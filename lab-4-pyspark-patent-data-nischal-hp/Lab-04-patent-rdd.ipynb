{
 "cells": [
  {
   "cell_type": "markdown",
   "metadata": {},
   "source": [
    "# CSCI 4253 / 5253 - Lab #4 - Patent Problem with Spark RDD - SOLUTION\n",
    "<div>\n",
    " <h2> CSCI 4283 / 5253 \n",
    "  <IMG SRC=\"https://www.colorado.edu/cs/profiles/express/themes/cuspirit/logo.png\" WIDTH=50 ALIGN=\"right\"/> </h2>\n",
    "</div>"
   ]
  },
  {
   "cell_type": "markdown",
   "metadata": {},
   "source": [
    "This [Spark cheatsheet](https://s3.amazonaws.com/assets.datacamp.com/blog_assets/PySpark_SQL_Cheat_Sheet_Python.pdf) is useful"
   ]
  },
  {
   "cell_type": "code",
   "execution_count": 1,
   "metadata": {},
   "outputs": [],
   "source": [
    "from pyspark import SparkContext, SparkConf\n",
    "import numpy as np\n",
    "import operator"
   ]
  },
  {
   "cell_type": "code",
   "execution_count": 2,
   "metadata": {},
   "outputs": [],
   "source": [
    "conf=SparkConf().setAppName(\"Lab4-rdd\").setMaster(\"local[*]\")\n",
    "sc = SparkContext(conf=conf)"
   ]
  },
  {
   "cell_type": "markdown",
   "metadata": {},
   "source": [
    "Using PySpark and RDD's on the https://coding.csel.io machines is slow -- most of the code is executed in Python and this is much less efficient than the java-based code using the PySpark dataframes. Be patient and trying using `.cache()` to cache the output of joins. You may want to start with a reduced set of data before running the full task. You can use the `sample()` method to extract just a sample of the data or use "
   ]
  },
  {
   "cell_type": "markdown",
   "metadata": {},
   "source": [
    "These two RDD's are called \"rawCitations\" and \"rawPatents\" because you probably want to process them futher (e.g. convert them to integer types, etc). \n",
    "\n",
    "The `textFile` function returns data in strings. This should work fine for this lab.\n",
    "\n",
    "Other methods you use might return data in type `Byte`. If you haven't used Python `Byte` types before, google it. You can convert a value of `x` type byte into e.g. a UTF8 string using `x.decode('uft-8')`. Alternatively, you can use the `open` method of the gzip library to read in all the lines as UTF-8 strings like this:\n",
    "```\n",
    "import gzip\n",
    "with gzip.open('cite75_99.txt.gz', 'rt',encoding='utf-8') as f:\n",
    "    rddCitations = sc.parallelize( f.readlines() )\n",
    "```\n",
    "This is less efficient than using `textFile` because `textFile` would use the underlying HDFS or other file system to read the file across all the worker nodes while the using `gzip.open()...readlines()` will read all the data in the frontend and then distribute it to all the worker nodes."
   ]
  },
  {
   "cell_type": "code",
   "execution_count": 3,
   "metadata": {},
   "outputs": [],
   "source": [
    "rddCitations = sc.textFile(\"cite75_99.txt.gz\")\n",
    "rddPatents = sc.textFile(\"apat63_99.txt.gz\")\n",
    "\n"
   ]
  },
  {
   "cell_type": "markdown",
   "metadata": {},
   "source": [
    "Generated a newrddCitations, which is basically the same as rddCitations, except that it does not contain the header. The header is removed, so that it does not cause any problems in the future operations when a column is coverted into an integer."
   ]
  },
  {
   "cell_type": "code",
   "execution_count": 4,
   "metadata": {},
   "outputs": [
    {
     "data": {
      "text/plain": [
       "['3858241,956203',\n",
       " '3858241,1324234',\n",
       " '3858241,3398406',\n",
       " '3858241,3557384',\n",
       " '3858241,3634889']"
      ]
     },
     "execution_count": 4,
     "metadata": {},
     "output_type": "execute_result"
    }
   ],
   "source": [
    "from itertools import islice\n",
    "\n",
    "newrddCitations = rddCitations.mapPartitionsWithIndex(\n",
    "    lambda idx, it: islice(it, 1, None) if idx == 0 else it \n",
    ").cache()\n",
    "newrddCitations.take(5)"
   ]
  },
  {
   "cell_type": "markdown",
   "metadata": {},
   "source": [
    "Generated a newrddPatents, which is basically the same as rddPatents, except that it does not contain the header. The header is removed, so that it does not cause any problems in the future operations when a column is coverted into an integer."
   ]
  },
  {
   "cell_type": "code",
   "execution_count": 5,
   "metadata": {},
   "outputs": [
    {
     "data": {
      "text/plain": [
       "['3070801,1963,1096,,\"BE\",\"\",,1,,269,6,69,,1,,0,,,,,,,',\n",
       " '3070802,1963,1096,,\"US\",\"TX\",,1,,2,6,63,,0,,,,,,,,,',\n",
       " '3070803,1963,1096,,\"US\",\"IL\",,1,,2,6,63,,9,,0.3704,,,,,,,',\n",
       " '3070804,1963,1096,,\"US\",\"OH\",,1,,2,6,63,,3,,0.6667,,,,,,,',\n",
       " '3070805,1963,1096,,\"US\",\"CA\",,1,,2,6,63,,1,,0,,,,,,,']"
      ]
     },
     "execution_count": 5,
     "metadata": {},
     "output_type": "execute_result"
    }
   ],
   "source": [
    "newrddPatents = rddPatents.mapPartitionsWithIndex(\n",
    "    lambda idx, it: islice(it, 1, None) if idx == 0 else it \n",
    ").cache()\n",
    "newrddPatents.take(5)"
   ]
  },
  {
   "cell_type": "markdown",
   "metadata": {},
   "source": [
    "The newrddCitations and newrddPatents strings are split based on \",\" and they are also converted into integer for future operations."
   ]
  },
  {
   "cell_type": "code",
   "execution_count": 8,
   "metadata": {},
   "outputs": [
    {
     "data": {
      "text/plain": [
       "[(3858241, 956203),\n",
       " (3858241, 1324234),\n",
       " (3858241, 3398406),\n",
       " (3858241, 3557384),\n",
       " (3858241, 3634889)]"
      ]
     },
     "execution_count": 8,
     "metadata": {},
     "output_type": "execute_result"
    }
   ],
   "source": [
    "integerCitations = newrddCitations.map(lambda x: x.split(',')).\\\n",
    "    map(lambda y: (int(y[0]),int(y[1]))).cache()\n",
    "integerCitations.take(5)"
   ]
  },
  {
   "cell_type": "code",
   "execution_count": 9,
   "metadata": {},
   "outputs": [
    {
     "data": {
      "text/plain": [
       "[(3070801, '\"\"'),\n",
       " (3070802, '\"TX\"'),\n",
       " (3070803, '\"IL\"'),\n",
       " (3070804, '\"OH\"'),\n",
       " (3070805, '\"CA\"')]"
      ]
     },
     "execution_count": 9,
     "metadata": {},
     "output_type": "execute_result"
    }
   ],
   "source": [
    "integerPatents = newrddPatents.map(lambda x: x.split(',')).\\\n",
    "    map(lambda y: (int(y[0]),y[5])).cache()\n",
    "integerPatents.take(5)"
   ]
  },
  {
   "cell_type": "markdown",
   "metadata": {},
   "source": [
    "An inner join is performed between the above two, to get the data in the following format - CITING, CITED , CITING_STATE"
   ]
  },
  {
   "cell_type": "code",
   "execution_count": 10,
   "metadata": {},
   "outputs": [
    {
     "data": {
      "text/plain": [
       "[(3858474, (3757618, '\"OH\"')),\n",
       " (3858474, (3768101, '\"OH\"')),\n",
       " (3858862, (197405, '\"MA\"')),\n",
       " (3858862, (1299890, '\"MA\"')),\n",
       " (3858862, (2059498, '\"MA\"'))]"
      ]
     },
     "execution_count": 10,
     "metadata": {},
     "output_type": "execute_result"
    }
   ],
   "source": [
    "joinOne = integerCitations.join(integerPatents).cache() \n",
    "joinOne.take(5)"
   ]
  },
  {
   "cell_type": "markdown",
   "metadata": {},
   "source": [
    "Made a left outer join of the above data along with the integerPatents; to get the data in the following format - CITED, CITING, CITED_STATE and CITING_STATE. This represents outputOne."
   ]
  },
  {
   "cell_type": "code",
   "execution_count": 12,
   "metadata": {},
   "outputs": [
    {
     "data": {
      "text/plain": [
       "[(1053093, ((4442770, '\"OH\"'), None)),\n",
       " (1053093, ((5348319, '\"SC\"'), None)),\n",
       " (3787839, ((5853846, '\"MN\"'), '\"MN\"')),\n",
       " (3787839, ((5917326, '\"MN\"'), '\"MN\"')),\n",
       " (3787839, ((5764060, '\"MN\"'), '\"MN\"'))]"
      ]
     },
     "execution_count": 12,
     "metadata": {},
     "output_type": "execute_result"
    }
   ],
   "source": [
    "outputOne = joinOne.leftOuterJoin(integerPatents).cache()\n",
    "outputOne.take(5)"
   ]
  },
  {
   "cell_type": "markdown",
   "metadata": {},
   "source": [
    "The data is re-ordered from the above output to get data in the following format - CITING, CITED , CITED_STATE and CITING_STATE."
   ]
  },
  {
   "cell_type": "code",
   "execution_count": 13,
   "metadata": {},
   "outputs": [
    {
     "data": {
      "text/plain": [
       "[(4442770, (1053093, '\"OH\"', None)),\n",
       " (5348319, (1053093, '\"SC\"', None)),\n",
       " (5853846, (3787839, '\"MN\"', '\"MN\"')),\n",
       " (5917326, (3787839, '\"MN\"', '\"MN\"')),\n",
       " (5764060, (3787839, '\"MN\"', '\"MN\"'))]"
      ]
     },
     "execution_count": 13,
     "metadata": {},
     "output_type": "execute_result"
    }
   ],
   "source": [
    "outputOneFinal = outputOne.map(lambda y: (y[1][0][0],(y[0],y[1][0][1],y[1][1]))).cache()\n",
    "outputOneFinal.take(5)"
   ]
  },
  {
   "cell_type": "markdown",
   "metadata": {},
   "source": [
    "The above table is flattened out using coalesce() function. This makes it easier to operate on later."
   ]
  },
  {
   "cell_type": "code",
   "execution_count": 14,
   "metadata": {},
   "outputs": [
    {
     "data": {
      "text/plain": [
       "[(4442770, 1053093, '\"OH\"', None),\n",
       " (5348319, 1053093, '\"SC\"', None),\n",
       " (5853846, 3787839, '\"MN\"', '\"MN\"'),\n",
       " (5917326, 3787839, '\"MN\"', '\"MN\"'),\n",
       " (5764060, 3787839, '\"MN\"', '\"MN\"')]"
      ]
     },
     "execution_count": 14,
     "metadata": {},
     "output_type": "execute_result"
    }
   ],
   "source": [
    "flattenOutputOne = outputOneFinal.map(lambda y: (y[0],y[1][0],y[1][1],y[1][2])).coalesce(1).cache()\n",
    "flattenOutputOne.take(5)"
   ]
  },
  {
   "cell_type": "markdown",
   "metadata": {},
   "source": [
    "Below Function is used to calculate the same state citation count. This is done, as the count cannot be obtained using a simple lambda function."
   ]
  },
  {
   "cell_type": "code",
   "execution_count": 15,
   "metadata": {},
   "outputs": [],
   "source": [
    "def SameStateCount(y):\n",
    "    Count = 0\n",
    "    # Check for the below 3 conditions, and then only increment the count\n",
    "    if y[2]!='\"\"' and y[3]!='\"\"' and y[2] == y[3]:\n",
    "        Count += 1\n",
    "    # Return the citation number along with the count\n",
    "    return(y[0],Count)"
   ]
  },
  {
   "cell_type": "markdown",
   "metadata": {},
   "source": [
    "Apply the above defined function to flattenOutputOne, to get the same state citation count"
   ]
  },
  {
   "cell_type": "code",
   "execution_count": 16,
   "metadata": {},
   "outputs": [
    {
     "data": {
      "text/plain": [
       "[(4442770, 0), (5348319, 0), (5853846, 1), (5917326, 1), (5764060, 1)]"
      ]
     },
     "execution_count": 16,
     "metadata": {},
     "output_type": "execute_result"
    }
   ],
   "source": [
    "sameStateCount = flattenOutputOne.map(SameStateCount).cache()\n",
    "sameStateCount.take(5)"
   ]
  },
  {
   "cell_type": "markdown",
   "metadata": {},
   "source": [
    "outputTwo is obtained by grouping together all the above values based on the Key value."
   ]
  },
  {
   "cell_type": "code",
   "execution_count": 18,
   "metadata": {},
   "outputs": [
    {
     "data": {
      "text/plain": [
       "[(5158150, <pyspark.resultiterable.ResultIterable at 0x7f9d995d13a0>),\n",
       " (4912837, <pyspark.resultiterable.ResultIterable at 0x7f9d995d1a90>),\n",
       " (4171616, <pyspark.resultiterable.ResultIterable at 0x7f9d995d1bb0>),\n",
       " (5764946, <pyspark.resultiterable.ResultIterable at 0x7f9d995d1df0>),\n",
       " (5710752, <pyspark.resultiterable.ResultIterable at 0x7f9d995dfdf0>)]"
      ]
     },
     "execution_count": 18,
     "metadata": {},
     "output_type": "execute_result"
    }
   ],
   "source": [
    "outputTwo = sameStateCount.groupByKey().cache()\n",
    "outputTwo.take(5)"
   ]
  },
  {
   "cell_type": "markdown",
   "metadata": {},
   "source": [
    "The values in the above table are summed up and a single value which represents the total same state citations, for a given key is generated."
   ]
  },
  {
   "cell_type": "code",
   "execution_count": 19,
   "metadata": {},
   "outputs": [
    {
     "data": {
      "text/plain": [
       "[(125, 5959466), (103, 5983822), (100, 6008204), (98, 5952345), (96, 5998655)]"
      ]
     },
     "execution_count": 19,
     "metadata": {},
     "output_type": "execute_result"
    }
   ],
   "source": [
    "requiredCount = outputTwo.mapValues(sum).map(lambda y :(y[1],y[0])).sortByKey(False).cache()\n",
    "requiredCount.take(5)"
   ]
  },
  {
   "cell_type": "markdown",
   "metadata": {},
   "source": [
    "The ordering of the above table is changed, to make the citation number as the Key, and the count of same state citation as the value."
   ]
  },
  {
   "cell_type": "code",
   "execution_count": 20,
   "metadata": {},
   "outputs": [
    {
     "data": {
      "text/plain": [
       "[(5959466, 125), (5983822, 103), (6008204, 100), (5952345, 98), (5998655, 96)]"
      ]
     },
     "execution_count": 20,
     "metadata": {},
     "output_type": "execute_result"
    }
   ],
   "source": [
    "requiredCountModified = requiredCount.map(lambda y: (int(y[1]),int(y[0]))).cache()\n",
    "requiredCountModified.take(5)"
   ]
  },
  {
   "cell_type": "markdown",
   "metadata": {},
   "source": [
    "The original newrddPatents is modified to split based on ',' and also to make the citation number as the Key and the rest of the data as the Value."
   ]
  },
  {
   "cell_type": "code",
   "execution_count": 21,
   "metadata": {},
   "outputs": [
    {
     "data": {
      "text/plain": [
       "[(3070801,\n",
       "  ['1963',\n",
       "   '1096',\n",
       "   '',\n",
       "   '\"BE\"',\n",
       "   '\"\"',\n",
       "   '',\n",
       "   '1',\n",
       "   '',\n",
       "   '269',\n",
       "   '6',\n",
       "   '69',\n",
       "   '',\n",
       "   '1',\n",
       "   '',\n",
       "   '0',\n",
       "   '',\n",
       "   '',\n",
       "   '',\n",
       "   '',\n",
       "   '',\n",
       "   '']),\n",
       " (3070802,\n",
       "  ['1963',\n",
       "   '1096',\n",
       "   '',\n",
       "   '\"US\"',\n",
       "   '\"TX\"',\n",
       "   '',\n",
       "   '1',\n",
       "   '',\n",
       "   '2',\n",
       "   '6',\n",
       "   '63',\n",
       "   '',\n",
       "   '0',\n",
       "   '',\n",
       "   '',\n",
       "   '',\n",
       "   '',\n",
       "   '',\n",
       "   '',\n",
       "   '',\n",
       "   '']),\n",
       " (3070803,\n",
       "  ['1963',\n",
       "   '1096',\n",
       "   '',\n",
       "   '\"US\"',\n",
       "   '\"IL\"',\n",
       "   '',\n",
       "   '1',\n",
       "   '',\n",
       "   '2',\n",
       "   '6',\n",
       "   '63',\n",
       "   '',\n",
       "   '9',\n",
       "   '',\n",
       "   '0.3704',\n",
       "   '',\n",
       "   '',\n",
       "   '',\n",
       "   '',\n",
       "   '',\n",
       "   '']),\n",
       " (3070804,\n",
       "  ['1963',\n",
       "   '1096',\n",
       "   '',\n",
       "   '\"US\"',\n",
       "   '\"OH\"',\n",
       "   '',\n",
       "   '1',\n",
       "   '',\n",
       "   '2',\n",
       "   '6',\n",
       "   '63',\n",
       "   '',\n",
       "   '3',\n",
       "   '',\n",
       "   '0.6667',\n",
       "   '',\n",
       "   '',\n",
       "   '',\n",
       "   '',\n",
       "   '',\n",
       "   '']),\n",
       " (3070805,\n",
       "  ['1963',\n",
       "   '1096',\n",
       "   '',\n",
       "   '\"US\"',\n",
       "   '\"CA\"',\n",
       "   '',\n",
       "   '1',\n",
       "   '',\n",
       "   '2',\n",
       "   '6',\n",
       "   '63',\n",
       "   '',\n",
       "   '1',\n",
       "   '',\n",
       "   '0',\n",
       "   '',\n",
       "   '',\n",
       "   '',\n",
       "   '',\n",
       "   '',\n",
       "   ''])]"
      ]
     },
     "execution_count": 21,
     "metadata": {},
     "output_type": "execute_result"
    }
   ],
   "source": [
    "newrddPatentsModified = newrddPatents.map(lambda x: x.split(',')).map(lambda y: (int(y[0]),y[1:22])).cache()\n",
    "newrddPatentsModified.take(5)"
   ]
  },
  {
   "cell_type": "markdown",
   "metadata": {},
   "source": [
    "outputThree is obtained by doing a left outer join of the above table with the requiredCountModified table."
   ]
  },
  {
   "cell_type": "code",
   "execution_count": 22,
   "metadata": {},
   "outputs": [
    {
     "data": {
      "text/plain": [
       "[(5276906,\n",
       "  (9,\n",
       "   ['1994',\n",
       "    '12422',\n",
       "    '1993',\n",
       "    '\"US\"',\n",
       "    '\"IL\"',\n",
       "    '386735',\n",
       "    '2',\n",
       "    '14',\n",
       "    '455',\n",
       "    '2',\n",
       "    '21',\n",
       "    '15',\n",
       "    '16',\n",
       "    '1',\n",
       "    '0.3047',\n",
       "    '0.1244',\n",
       "    '1.5625',\n",
       "    '10.6667',\n",
       "    '0.5714',\n",
       "    '0.5333',\n",
       "    '0.3125'])),\n",
       " (5983548,\n",
       "  (5,\n",
       "   ['1999',\n",
       "    '14564',\n",
       "    '1998',\n",
       "    '\"US\"',\n",
       "    '\"CA\"',\n",
       "    '760952',\n",
       "    '2',\n",
       "    '',\n",
       "    '42',\n",
       "    '5',\n",
       "    '59',\n",
       "    '23',\n",
       "    '0',\n",
       "    '0.8696',\n",
       "    '',\n",
       "    '0.6',\n",
       "    '',\n",
       "    '24.1304',\n",
       "    '0',\n",
       "    '0',\n",
       "    ''])),\n",
       " (5230956,\n",
       "  (5,\n",
       "   ['1993',\n",
       "    '12261',\n",
       "    '1990',\n",
       "    '\"US\"',\n",
       "    '\"IL\"',\n",
       "    '27895',\n",
       "    '2',\n",
       "    '9',\n",
       "    '428',\n",
       "    '6',\n",
       "    '69',\n",
       "    '8',\n",
       "    '14',\n",
       "    '1',\n",
       "    '0.7245',\n",
       "    '0.7188',\n",
       "    '4.8571',\n",
       "    '9',\n",
       "    '0.625',\n",
       "    '0.625',\n",
       "    '0'])),\n",
       " (5695412,\n",
       "  (4,\n",
       "   ['1997',\n",
       "    '13857',\n",
       "    '1996',\n",
       "    '\"US\"',\n",
       "    '\"TX\"',\n",
       "    '',\n",
       "    '4',\n",
       "    '7',\n",
       "    '473',\n",
       "    '6',\n",
       "    '62',\n",
       "    '22',\n",
       "    '0',\n",
       "    '0.9091',\n",
       "    '',\n",
       "    '0',\n",
       "    '',\n",
       "    '18.0909',\n",
       "    '',\n",
       "    '',\n",
       "    ''])),\n",
       " (4226794,\n",
       "  (3,\n",
       "   ['1980',\n",
       "    '7585',\n",
       "    '1979',\n",
       "    '\"US\"',\n",
       "    '\"CT\"',\n",
       "    '417130',\n",
       "    '2',\n",
       "    '14',\n",
       "    '556',\n",
       "    '1',\n",
       "    '14',\n",
       "    '6',\n",
       "    '10',\n",
       "    '0.6667',\n",
       "    '0.76',\n",
       "    '0.375',\n",
       "    '12.6',\n",
       "    '10.5',\n",
       "    '1',\n",
       "    '0.5',\n",
       "    '0']))]"
      ]
     },
     "execution_count": 22,
     "metadata": {},
     "output_type": "execute_result"
    }
   ],
   "source": [
    "outputThree = requiredCountModified.leftOuterJoin(newrddPatentsModified).cache()\n",
    "outputThree.take(5)"
   ]
  },
  {
   "cell_type": "markdown",
   "metadata": {},
   "source": [
    "The same state citation count is made to be the Key, so that it becomes easy to sort, and also it is converted to an integer. The rest of the data becomes the value."
   ]
  },
  {
   "cell_type": "code",
   "execution_count": 50,
   "metadata": {},
   "outputs": [
    {
     "data": {
      "text/plain": [
       "[(35,\n",
       "  5374608,\n",
       "  ['1994',\n",
       "   '12772',\n",
       "   '1992',\n",
       "   '\"US\"',\n",
       "   '\"CA\"',\n",
       "   '595450',\n",
       "   '2',\n",
       "   '34',\n",
       "   '504',\n",
       "   '1',\n",
       "   '11',\n",
       "   '61',\n",
       "   '0',\n",
       "   '0.8852',\n",
       "   '',\n",
       "   '0.9005',\n",
       "   '',\n",
       "   '14.8361',\n",
       "   '0.6226',\n",
       "   '0.541',\n",
       "   '']),\n",
       " (24,\n",
       "  5962118,\n",
       "  ['1999',\n",
       "   '14522',\n",
       "   '1997',\n",
       "   '\"US\"',\n",
       "   '\"PA\"',\n",
       "   '',\n",
       "   '1',\n",
       "   '',\n",
       "   '428',\n",
       "   '6',\n",
       "   '69',\n",
       "   '53',\n",
       "   '0',\n",
       "   '0.9811',\n",
       "   '',\n",
       "   '0.7581',\n",
       "   '',\n",
       "   '13.9057',\n",
       "   '',\n",
       "   '',\n",
       "   '']),\n",
       " (21,\n",
       "  5365004,\n",
       "  ['1994',\n",
       "   '12737',\n",
       "   '1993',\n",
       "   '\"US\"',\n",
       "   '\"NJ\"',\n",
       "   '381140',\n",
       "   '2',\n",
       "   '31',\n",
       "   '585',\n",
       "   '1',\n",
       "   '19',\n",
       "   '29',\n",
       "   '8',\n",
       "   '1',\n",
       "   '0.375',\n",
       "   '0.6659',\n",
       "   '1.625',\n",
       "   '12.6552',\n",
       "   '0.75',\n",
       "   '0.7241',\n",
       "   '1']),\n",
       " (16,\n",
       "  5816024,\n",
       "  ['1998',\n",
       "   '14158',\n",
       "   '1996',\n",
       "   '\"US\"',\n",
       "   '\"IL\"',\n",
       "   '746193',\n",
       "   '2',\n",
       "   '17',\n",
       "   '53',\n",
       "   '6',\n",
       "   '68',\n",
       "   '94',\n",
       "   '1',\n",
       "   '0.7766',\n",
       "   '0',\n",
       "   '0.5123',\n",
       "   '1',\n",
       "   '26.1383',\n",
       "   '0',\n",
       "   '0',\n",
       "   '1']),\n",
       " (12,\n",
       "  5728176,\n",
       "  ['1998',\n",
       "   '13955',\n",
       "   '1995',\n",
       "   '\"US\"',\n",
       "   '\"CA\"',\n",
       "   '200490',\n",
       "   '2',\n",
       "   '17',\n",
       "   '623',\n",
       "   '3',\n",
       "   '39',\n",
       "   '103',\n",
       "   '0',\n",
       "   '0.7184',\n",
       "   '',\n",
       "   '0.1041',\n",
       "   '',\n",
       "   '30.8155',\n",
       "   '0.0233',\n",
       "   '0.0097',\n",
       "   ''])]"
      ]
     },
     "execution_count": 50,
     "metadata": {},
     "output_type": "execute_result"
    }
   ],
   "source": [
    "outputThreeModified = outputThree.map(lambda y : (int(y[1][0]),y[0],y[1][1])).coalesce(1).cache()\n",
    "outputThreeModified.take(5)"
   ]
  },
  {
   "cell_type": "markdown",
   "metadata": {},
   "source": [
    "The final output is obtained by sorting based on Key values and then presenting the data in the required format. The top 10 values are printed below as required."
   ]
  },
  {
   "cell_type": "code",
   "execution_count": 58,
   "metadata": {},
   "outputs": [
    {
     "data": {
      "text/plain": [
       "[(5959466,\n",
       "  ['1999',\n",
       "   '14515',\n",
       "   '1997',\n",
       "   '\"US\"',\n",
       "   '\"CA\"',\n",
       "   '5310',\n",
       "   '2',\n",
       "   '',\n",
       "   '326',\n",
       "   '4',\n",
       "   '46',\n",
       "   '159',\n",
       "   '0',\n",
       "   '1',\n",
       "   '',\n",
       "   '0.6186',\n",
       "   '',\n",
       "   '4.8868',\n",
       "   '0.0455',\n",
       "   '0.044',\n",
       "   ''],\n",
       "  125),\n",
       " (5983822,\n",
       "  ['1999',\n",
       "   '14564',\n",
       "   '1998',\n",
       "   '\"US\"',\n",
       "   '\"TX\"',\n",
       "   '569900',\n",
       "   '2',\n",
       "   '',\n",
       "   '114',\n",
       "   '5',\n",
       "   '55',\n",
       "   '200',\n",
       "   '0',\n",
       "   '0.995',\n",
       "   '',\n",
       "   '0.7201',\n",
       "   '',\n",
       "   '12.45',\n",
       "   '0',\n",
       "   '0',\n",
       "   ''],\n",
       "  103),\n",
       " (6008204,\n",
       "  ['1999',\n",
       "   '14606',\n",
       "   '1998',\n",
       "   '\"US\"',\n",
       "   '\"CA\"',\n",
       "   '749584',\n",
       "   '2',\n",
       "   '',\n",
       "   '514',\n",
       "   '3',\n",
       "   '31',\n",
       "   '121',\n",
       "   '0',\n",
       "   '1',\n",
       "   '',\n",
       "   '0.7415',\n",
       "   '',\n",
       "   '5',\n",
       "   '0.0085',\n",
       "   '0.0083',\n",
       "   ''],\n",
       "  100),\n",
       " (5952345,\n",
       "  ['1999',\n",
       "   '14501',\n",
       "   '1997',\n",
       "   '\"US\"',\n",
       "   '\"CA\"',\n",
       "   '749584',\n",
       "   '2',\n",
       "   '',\n",
       "   '514',\n",
       "   '3',\n",
       "   '31',\n",
       "   '118',\n",
       "   '0',\n",
       "   '1',\n",
       "   '',\n",
       "   '0.7442',\n",
       "   '',\n",
       "   '5.1102',\n",
       "   '0',\n",
       "   '0',\n",
       "   ''],\n",
       "  98),\n",
       " (5958954,\n",
       "  ['1999',\n",
       "   '14515',\n",
       "   '1997',\n",
       "   '\"US\"',\n",
       "   '\"CA\"',\n",
       "   '749584',\n",
       "   '2',\n",
       "   '',\n",
       "   '514',\n",
       "   '3',\n",
       "   '31',\n",
       "   '116',\n",
       "   '0',\n",
       "   '1',\n",
       "   '',\n",
       "   '0.7397',\n",
       "   '',\n",
       "   '5.181',\n",
       "   '0',\n",
       "   '0',\n",
       "   ''],\n",
       "  96),\n",
       " (5998655,\n",
       "  ['1999',\n",
       "   '14585',\n",
       "   '1998',\n",
       "   '\"US\"',\n",
       "   '\"CA\"',\n",
       "   '',\n",
       "   '1',\n",
       "   '',\n",
       "   '560',\n",
       "   '1',\n",
       "   '14',\n",
       "   '114',\n",
       "   '0',\n",
       "   '1',\n",
       "   '',\n",
       "   '0.7387',\n",
       "   '',\n",
       "   '5.1667',\n",
       "   '',\n",
       "   '',\n",
       "   ''],\n",
       "  96),\n",
       " (5936426,\n",
       "  ['1999',\n",
       "   '14466',\n",
       "   '1997',\n",
       "   '\"US\"',\n",
       "   '\"CA\"',\n",
       "   '5310',\n",
       "   '2',\n",
       "   '',\n",
       "   '326',\n",
       "   '4',\n",
       "   '46',\n",
       "   '178',\n",
       "   '0',\n",
       "   '1',\n",
       "   '',\n",
       "   '0.58',\n",
       "   '',\n",
       "   '11.2303',\n",
       "   '0.0765',\n",
       "   '0.073',\n",
       "   ''],\n",
       "  94),\n",
       " (5739256,\n",
       "  ['1998',\n",
       "   '13983',\n",
       "   '1995',\n",
       "   '\"US\"',\n",
       "   '\"CA\"',\n",
       "   '70060',\n",
       "   '2',\n",
       "   '15',\n",
       "   '528',\n",
       "   '1',\n",
       "   '15',\n",
       "   '453',\n",
       "   '0',\n",
       "   '1',\n",
       "   '',\n",
       "   '0.8232',\n",
       "   '',\n",
       "   '15.1104',\n",
       "   '0.1124',\n",
       "   '0.1082',\n",
       "   ''],\n",
       "  90),\n",
       " (5925042,\n",
       "  ['1999',\n",
       "   '14445',\n",
       "   '1997',\n",
       "   '\"US\"',\n",
       "   '\"CA\"',\n",
       "   '733846',\n",
       "   '2',\n",
       "   '',\n",
       "   '606',\n",
       "   '3',\n",
       "   '32',\n",
       "   '242',\n",
       "   '0',\n",
       "   '1',\n",
       "   '',\n",
       "   '0.7382',\n",
       "   '',\n",
       "   '8.3471',\n",
       "   '0',\n",
       "   '0',\n",
       "   ''],\n",
       "  90),\n",
       " (5951547,\n",
       "  ['1999',\n",
       "   '14501',\n",
       "   '1997',\n",
       "   '\"US\"',\n",
       "   '\"CA\"',\n",
       "   '733846',\n",
       "   '2',\n",
       "   '',\n",
       "   '606',\n",
       "   '3',\n",
       "   '32',\n",
       "   '242',\n",
       "   '0',\n",
       "   '1',\n",
       "   '',\n",
       "   '0.7382',\n",
       "   '',\n",
       "   '8.3471',\n",
       "   '0',\n",
       "   '0',\n",
       "   ''],\n",
       "  90)]"
      ]
     },
     "execution_count": 58,
     "metadata": {},
     "output_type": "execute_result"
    }
   ],
   "source": [
    "finalOutput=outputThreeModified.sortByKey(False).map(lambda x: (x[1],x[2],x[0])).cache()\n",
    "finalOutput.take(10)"
   ]
  },
  {
   "cell_type": "code",
   "execution_count": null,
   "metadata": {},
   "outputs": [],
   "source": []
  }
 ],
 "metadata": {
  "kernelspec": {
   "display_name": "Python 3",
   "language": "python",
   "name": "python3"
  },
  "language_info": {
   "codemirror_mode": {
    "name": "ipython",
    "version": 3
   },
   "file_extension": ".py",
   "mimetype": "text/x-python",
   "name": "python",
   "nbconvert_exporter": "python",
   "pygments_lexer": "ipython3",
   "version": "3.8.5"
  }
 },
 "nbformat": 4,
 "nbformat_minor": 4
}
