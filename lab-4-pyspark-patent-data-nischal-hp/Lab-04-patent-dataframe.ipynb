{
 "cells": [
  {
   "cell_type": "markdown",
   "metadata": {},
   "source": [
    "# CSCI 4253 / 5253 - Lab #4 - Patent Problem with Spark DataFrames\n",
    "<div>\n",
    " <h2> CSCI 4283 / 5253 \n",
    "  <IMG SRC=\"https://www.colorado.edu/cs/profiles/express/themes/cuspirit/logo.png\" WIDTH=50 ALIGN=\"right\"/> </h2>\n",
    "</div>"
   ]
  },
  {
   "cell_type": "markdown",
   "metadata": {},
   "source": [
    "This [Spark cheatsheet](https://s3.amazonaws.com/assets.datacamp.com/blog_assets/PySpark_SQL_Cheat_Sheet_Python.pdf) is useful as is [this reference on doing joins in Spark dataframe](http://www.learnbymarketing.com/1100/pyspark-joins-by-example/).\n",
    "\n",
    "The [DataBricks company has one of the better reference manuals for PySpark](https://docs.databricks.com/spark/latest/dataframes-datasets/index.html) -- they show you how to perform numerous common data operations such as joins, aggregation operations following `groupBy` and the like."
   ]
  },
  {
   "cell_type": "code",
   "execution_count": 1,
   "metadata": {},
   "outputs": [],
   "source": [
    "from pyspark import SparkContext, SparkConf\n",
    "from pyspark.sql import SparkSession"
   ]
  },
  {
   "cell_type": "markdown",
   "metadata": {},
   "source": [
    "The following aggregation functions may be useful -- [these can be used to aggregate results of `groupby` operations](https://docs.databricks.com/spark/latest/dataframes-datasets/introduction-to-dataframes-python.html#example-aggregations-using-agg-and-countdistinct). More documentation is at the [PySpark SQL Functions manual](https://spark.apache.org/docs/2.3.0/api/python/pyspark.sql.html#module-pyspark.sql.functions). Feel free to use other functions from that library."
   ]
  },
  {
   "cell_type": "code",
   "execution_count": 2,
   "metadata": {},
   "outputs": [],
   "source": [
    "from pyspark.sql.functions import col, count, countDistinct\n",
    "import pyspark.sql.functions"
   ]
  },
  {
   "cell_type": "markdown",
   "metadata": {},
   "source": [
    "Create our session as described in the tutorials"
   ]
  },
  {
   "cell_type": "code",
   "execution_count": 3,
   "metadata": {},
   "outputs": [],
   "source": [
    "spark = SparkSession \\\n",
    "    .builder \\\n",
    "    .appName(\"Lab4-Dataframe\") \\\n",
    "    .master(\"local[*]\")\\\n",
    "    .getOrCreate()"
   ]
  },
  {
   "cell_type": "markdown",
   "metadata": {},
   "source": [
    "Read in the citations and patents data and check that the data makes sense. Note that unlike in the RDD solution, the data is automatically inferred to be Integer() types."
   ]
  },
  {
   "cell_type": "code",
   "execution_count": 4,
   "metadata": {},
   "outputs": [],
   "source": [
    "citations = spark.read.load('cite75_99.txt.gz',\n",
    "            format=\"csv\", sep=\",\", header=True,\n",
    "            compression=\"gzip\",\n",
    "            inferSchema=\"true\")"
   ]
  },
  {
   "cell_type": "code",
   "execution_count": 5,
   "metadata": {},
   "outputs": [
    {
     "name": "stdout",
     "output_type": "stream",
     "text": [
      "+-------+-------+\n",
      "| CITING|  CITED|\n",
      "+-------+-------+\n",
      "|3858241| 956203|\n",
      "|3858241|1324234|\n",
      "|3858241|3398406|\n",
      "|3858241|3557384|\n",
      "|3858241|3634889|\n",
      "+-------+-------+\n",
      "only showing top 5 rows\n",
      "\n"
     ]
    }
   ],
   "source": [
    "citations.show(5)"
   ]
  },
  {
   "cell_type": "code",
   "execution_count": 6,
   "metadata": {},
   "outputs": [],
   "source": [
    "patents = spark.read.load('apat63_99.txt.gz',\n",
    "            format=\"csv\", sep=\",\", header=True,\n",
    "            compression=\"gzip\",\n",
    "            inferSchema=\"true\")"
   ]
  },
  {
   "cell_type": "code",
   "execution_count": 7,
   "metadata": {},
   "outputs": [
    {
     "name": "stdout",
     "output_type": "stream",
     "text": [
      "+-------+-----+-----+-------+-------+-------+--------+-------+------+------+---+------+-----+--------+--------+-------+--------+--------+--------+--------+--------+--------+--------+\n",
      "| PATENT|GYEAR|GDATE|APPYEAR|COUNTRY|POSTATE|ASSIGNEE|ASSCODE|CLAIMS|NCLASS|CAT|SUBCAT|CMADE|CRECEIVE|RATIOCIT|GENERAL|ORIGINAL|FWDAPLAG|BCKGTLAG|SELFCTUB|SELFCTLB|SECDUPBD|SECDLWBD|\n",
      "+-------+-----+-----+-------+-------+-------+--------+-------+------+------+---+------+-----+--------+--------+-------+--------+--------+--------+--------+--------+--------+--------+\n",
      "|3070801| 1963| 1096|   null|     BE|   null|    null|      1|  null|   269|  6|    69| null|       1|    null|    0.0|    null|    null|    null|    null|    null|    null|    null|\n",
      "|3070802| 1963| 1096|   null|     US|     TX|    null|      1|  null|     2|  6|    63| null|       0|    null|   null|    null|    null|    null|    null|    null|    null|    null|\n",
      "|3070803| 1963| 1096|   null|     US|     IL|    null|      1|  null|     2|  6|    63| null|       9|    null| 0.3704|    null|    null|    null|    null|    null|    null|    null|\n",
      "|3070804| 1963| 1096|   null|     US|     OH|    null|      1|  null|     2|  6|    63| null|       3|    null| 0.6667|    null|    null|    null|    null|    null|    null|    null|\n",
      "|3070805| 1963| 1096|   null|     US|     CA|    null|      1|  null|     2|  6|    63| null|       1|    null|    0.0|    null|    null|    null|    null|    null|    null|    null|\n",
      "+-------+-----+-----+-------+-------+-------+--------+-------+------+------+---+------+-----+--------+--------+-------+--------+--------+--------+--------+--------+--------+--------+\n",
      "only showing top 5 rows\n",
      "\n"
     ]
    }
   ],
   "source": [
    "patents.show(5)"
   ]
  },
  {
   "cell_type": "markdown",
   "metadata": {},
   "source": [
    "Modified the Patent Table, by selecting only the Patent and the State Columns, as the others are unnecessary."
   ]
  },
  {
   "cell_type": "code",
   "execution_count": 8,
   "metadata": {},
   "outputs": [
    {
     "name": "stdout",
     "output_type": "stream",
     "text": [
      "+-------+-------+\n",
      "| PATENT|POSTATE|\n",
      "+-------+-------+\n",
      "|3070801|   null|\n",
      "|3070802|     TX|\n",
      "|3070803|     IL|\n",
      "|3070804|     OH|\n",
      "|3070805|     CA|\n",
      "|3070806|     PA|\n",
      "|3070807|     OH|\n",
      "|3070808|     IA|\n",
      "|3070809|     AZ|\n",
      "|3070810|     IL|\n",
      "|3070811|     CA|\n",
      "|3070812|     LA|\n",
      "|3070813|     NY|\n",
      "|3070814|     MN|\n",
      "|3070815|     CO|\n",
      "|3070816|     OK|\n",
      "|3070817|     RI|\n",
      "|3070818|     IN|\n",
      "|3070819|     TN|\n",
      "|3070820|   null|\n",
      "+-------+-------+\n",
      "only showing top 20 rows\n",
      "\n"
     ]
    }
   ],
   "source": [
    "ModifiedPatentsTable = patents.select('PATENT','POSTATE')\n",
    "ModifiedPatentsTable.show()"
   ]
  },
  {
   "cell_type": "markdown",
   "metadata": {},
   "source": [
    "Implemented an Inner Table join between ModifiedPatentsTable and citations; based on the CITED number in citations, with PATENT number in ModifiedPatentsTable"
   ]
  },
  {
   "cell_type": "code",
   "execution_count": 9,
   "metadata": {},
   "outputs": [
    {
     "name": "stdout",
     "output_type": "stream",
     "text": [
      "+-------+-------+-------+-------+\n",
      "| CITING|  CITED| PATENT|POSTATE|\n",
      "+-------+-------+-------+-------+\n",
      "|3951073|3071083|3071083|   null|\n",
      "|4401034|3071083|3071083|   null|\n",
      "|4802416|3071083|3071083|   null|\n",
      "|4045189|3071452|3071452|   null|\n",
      "|4192656|3071452|3071452|   null|\n",
      "|3949375|3071753|3071753|     MN|\n",
      "|4120573|3071753|3071753|     MN|\n",
      "|4271479|3071753|3071753|     MN|\n",
      "|4345315|3071753|3071753|     MN|\n",
      "|4496943|3071753|3071753|     MN|\n",
      "|5062619|3071941|3071941|   null|\n",
      "|3861359|3072100|3072100|     IL|\n",
      "|3894516|3072100|3072100|     IL|\n",
      "|4138968|3072100|3072100|     IL|\n",
      "|4280448|3072100|3072100|     IL|\n",
      "|4572109|3072100|3072100|     IL|\n",
      "|3917094|3072274|3072274|     WI|\n",
      "|4396343|3072274|3072274|     WI|\n",
      "|4907934|3072274|3072274|     WI|\n",
      "|4955781|3072274|3072274|     WI|\n",
      "+-------+-------+-------+-------+\n",
      "only showing top 20 rows\n",
      "\n"
     ]
    }
   ],
   "source": [
    "FirstTableJoin = citations.join(ModifiedPatentsTable,citations.CITED == ModifiedPatentsTable.PATENT, 'inner')\n",
    "FirstTableJoin.show()"
   ]
  },
  {
   "cell_type": "markdown",
   "metadata": {},
   "source": [
    "Selected just the required columns from the above table join - CITING, CITED and CITED_STATE. The last column of POSTATE has been aliased to be CITED_STATE, as that makes more sense."
   ]
  },
  {
   "cell_type": "code",
   "execution_count": 10,
   "metadata": {},
   "outputs": [
    {
     "name": "stdout",
     "output_type": "stream",
     "text": [
      "+-------+-------+-----------+\n",
      "| CITING|  CITED|CITED_STATE|\n",
      "+-------+-------+-----------+\n",
      "|3951073|3071083|       null|\n",
      "|4401034|3071083|       null|\n",
      "|4802416|3071083|       null|\n",
      "|4045189|3071452|       null|\n",
      "|4192656|3071452|       null|\n",
      "|3949375|3071753|         MN|\n",
      "|4120573|3071753|         MN|\n",
      "|4271479|3071753|         MN|\n",
      "|4345315|3071753|         MN|\n",
      "|4496943|3071753|         MN|\n",
      "|5062619|3071941|       null|\n",
      "|3861359|3072100|         IL|\n",
      "|3894516|3072100|         IL|\n",
      "|4138968|3072100|         IL|\n",
      "|4280448|3072100|         IL|\n",
      "|4572109|3072100|         IL|\n",
      "|3917094|3072274|         WI|\n",
      "|4396343|3072274|         WI|\n",
      "|4907934|3072274|         WI|\n",
      "|4955781|3072274|         WI|\n",
      "+-------+-------+-----------+\n",
      "only showing top 20 rows\n",
      "\n"
     ]
    }
   ],
   "source": [
    "firstOutput = FirstTableJoin.select('CITING','CITED',col('POSTATE').alias(\"CITED_STATE\"))\n",
    "firstOutput.show()"
   ]
  },
  {
   "cell_type": "markdown",
   "metadata": {},
   "source": [
    "Created a second inner join between the ModifiedPatentsTable and the above table. The join is based on the CITING number present in the above table and the PATENT number of the ModifiedPatentsTable. Through this join, I was able to obtain the CITING_STATE."
   ]
  },
  {
   "cell_type": "code",
   "execution_count": 11,
   "metadata": {},
   "outputs": [
    {
     "name": "stdout",
     "output_type": "stream",
     "text": [
      "+-------+-------+-----------+-------+-------+\n",
      "| CITING|  CITED|CITED_STATE| PATENT|POSTATE|\n",
      "+-------+-------+-----------+-------+-------+\n",
      "|3858527|3638586|         CA|3858527|   null|\n",
      "|3858527|3699902|         OH|3858527|   null|\n",
      "|3858527|3602157|         TX|3858527|   null|\n",
      "|3858597|3815160|         NY|3858597|     MT|\n",
      "|3858597|3675252|         AZ|3858597|     MT|\n",
      "|3859029|3741706|         OH|3859029|     NY|\n",
      "|3859029|3685936|         OH|3859029|     NY|\n",
      "|3859627|3368197|         MI|3859627|     MI|\n",
      "|3859627|3226674|       null|3859627|     MI|\n",
      "|3859627|3359539|         CA|3859627|     MI|\n",
      "|3859627|3729059|         NY|3859627|     MI|\n",
      "|3859627|3381268|         DC|3859627|     MI|\n",
      "|3859627|3462732|       null|3859627|     MI|\n",
      "|3859627|3340523|         FL|3859627|     MI|\n",
      "|3860038|3430989|         CA|3860038|     AZ|\n",
      "|3860038|3359351|         TX|3860038|     AZ|\n",
      "|3860038|3105570|         MA|3860038|     AZ|\n",
      "|3860100|3797623|         OH|3860100|     IL|\n",
      "|3860100|3182776|         IN|3860100|     IL|\n",
      "|3860100|3638773|         OH|3860100|     IL|\n",
      "+-------+-------+-----------+-------+-------+\n",
      "only showing top 20 rows\n",
      "\n"
     ]
    }
   ],
   "source": [
    "SecondTableJoin = firstOutput.join(ModifiedPatentsTable,firstOutput.CITING == ModifiedPatentsTable.PATENT, 'inner')\n",
    "SecondTableJoin.show()"
   ]
  },
  {
   "cell_type": "markdown",
   "metadata": {},
   "source": [
    "Obtained the Second required output, which will be of the form - CITING, CITING_STATE, CITED, CITED_STATE. This is obtained by dropping the PATENT column from the above table; and then selecting the other required columns. Also, the column POSTATE is aliased again to be CITING_STATE."
   ]
  },
  {
   "cell_type": "code",
   "execution_count": 12,
   "metadata": {},
   "outputs": [
    {
     "name": "stdout",
     "output_type": "stream",
     "text": [
      "+-------+------------+-------+-----------+\n",
      "| CITING|CITING_STATE|  CITED|CITED_STATE|\n",
      "+-------+------------+-------+-----------+\n",
      "|3858527|        null|3638586|         CA|\n",
      "|3858527|        null|3699902|         OH|\n",
      "|3858527|        null|3602157|         TX|\n",
      "|3858597|          MT|3815160|         NY|\n",
      "|3858597|          MT|3675252|         AZ|\n",
      "|3859029|          NY|3741706|         OH|\n",
      "|3859029|          NY|3685936|         OH|\n",
      "|3859627|          MI|3368197|         MI|\n",
      "|3859627|          MI|3226674|       null|\n",
      "|3859627|          MI|3359539|         CA|\n",
      "|3859627|          MI|3729059|         NY|\n",
      "|3859627|          MI|3381268|         DC|\n",
      "|3859627|          MI|3462732|       null|\n",
      "|3859627|          MI|3340523|         FL|\n",
      "|3860038|          AZ|3430989|         CA|\n",
      "|3860038|          AZ|3359351|         TX|\n",
      "|3860038|          AZ|3105570|         MA|\n",
      "|3860100|          IL|3797623|         OH|\n",
      "|3860100|          IL|3182776|         IN|\n",
      "|3860100|          IL|3638773|         OH|\n",
      "+-------+------------+-------+-----------+\n",
      "only showing top 20 rows\n",
      "\n"
     ]
    }
   ],
   "source": [
    "secondOutput = SecondTableJoin.drop('PATENT').select('CITING',col('POSTATE').alias('CITING_STATE'),'CITED','CITED_STATE')\n",
    "secondOutput.show()"
   ]
  },
  {
   "cell_type": "markdown",
   "metadata": {},
   "source": [
    "Obtained the third required output, wherein only the same state citation rows are obtained from the above table. This will help to get the count of the same state citations in the next stage."
   ]
  },
  {
   "cell_type": "code",
   "execution_count": 13,
   "metadata": {},
   "outputs": [
    {
     "name": "stdout",
     "output_type": "stream",
     "text": [
      "+-------+------------+-------+-----------+\n",
      "| CITING|CITING_STATE|  CITED|CITED_STATE|\n",
      "+-------+------------+-------+-----------+\n",
      "|4178878|          AK|3464385|         AK|\n",
      "|3974004|          AL|3745074|         AL|\n",
      "|3974004|          AL|3585090|         AL|\n",
      "|3974004|          AL|3762972|         AL|\n",
      "|3974004|          AL|3692600|         AL|\n",
      "|4554823|          AL|3373564|         AL|\n",
      "|4698246|          AL|3972467|         AL|\n",
      "|4701360|          AL|3972467|         AL|\n",
      "|5078406|          AL|5026073|         AL|\n",
      "|5701722|          AL|5623808|         AL|\n",
      "|5661858|          AR|5309583|         AR|\n",
      "|3881518|          AZ|3589601|         AZ|\n",
      "|4323097|          AZ|4192362|         AZ|\n",
      "|4653557|          AZ|3994326|         AZ|\n",
      "|4656646|          AZ|4445094|         AZ|\n",
      "|4656646|          AZ|4438413|         AZ|\n",
      "|4656646|          AZ|4601048|         AZ|\n",
      "|4656646|          AZ|4359692|         AZ|\n",
      "|4724471|          AZ|3777216|         AZ|\n",
      "|4757494|          AZ|4466092|         AZ|\n",
      "+-------+------------+-------+-----------+\n",
      "only showing top 20 rows\n",
      "\n"
     ]
    }
   ],
   "source": [
    "thirdOutput = secondOutput.where(secondOutput.CITING_STATE == secondOutput.CITED_STATE)\n",
    "thirdOutput.show()"
   ]
  },
  {
   "cell_type": "markdown",
   "metadata": {},
   "source": [
    "Here, the count of same state citations is obtained from the above table. This is done by first grouping based on the CITING number column and then aggregating the counts if CITING_STATE is same as CITED_STATE in the above table. To obtain the count, I have used the pyspark.sql.functions.count() function."
   ]
  },
  {
   "cell_type": "code",
   "execution_count": 14,
   "metadata": {},
   "outputs": [
    {
     "name": "stdout",
     "output_type": "stream",
     "text": [
      "+-------+----------------+\n",
      "| CITING|SAME_STATE_COUNT|\n",
      "+-------+----------------+\n",
      "|4240165|               3|\n",
      "|5096364|               2|\n",
      "|5122917|               5|\n",
      "|5203482|               2|\n",
      "|5583013|               9|\n",
      "|5409826|               2|\n",
      "|4053654|               1|\n",
      "|4829378|               1|\n",
      "|5393360|               2|\n",
      "|4661390|               2|\n",
      "|5179032|               2|\n",
      "|5638851|               2|\n",
      "|5602785|               2|\n",
      "|4237332|               4|\n",
      "|5405045|               1|\n",
      "|4255566|               1|\n",
      "|4312201|               2|\n",
      "|5522077|               5|\n",
      "|5999308|               3|\n",
      "|5954264|               1|\n",
      "+-------+----------------+\n",
      "only showing top 20 rows\n",
      "\n"
     ]
    }
   ],
   "source": [
    "citingSameStateCount = thirdOutput.groupby('CITING').agg(pyspark.sql.functions.count(thirdOutput.CITING_STATE == thirdOutput.CITED_STATE).alias('SAME_STATE_COUNT'))\n",
    "citingSameStateCount.show()"
   ]
  },
  {
   "cell_type": "markdown",
   "metadata": {},
   "source": [
    "The final output is obtained by doing an Inner join between the original patents table and the above table which contains the same state counts. This is done by comparing the PATENT column in the original patents table with the CITING column in the above table."
   ]
  },
  {
   "cell_type": "code",
   "execution_count": 15,
   "metadata": {},
   "outputs": [
    {
     "name": "stdout",
     "output_type": "stream",
     "text": [
      "+-------+-----+-----+-------+-------+-------+--------+-------+------+------+---+------+-----+--------+--------+-------+--------+--------+--------+--------+--------+--------+--------+-------+----------------+\n",
      "| PATENT|GYEAR|GDATE|APPYEAR|COUNTRY|POSTATE|ASSIGNEE|ASSCODE|CLAIMS|NCLASS|CAT|SUBCAT|CMADE|CRECEIVE|RATIOCIT|GENERAL|ORIGINAL|FWDAPLAG|BCKGTLAG|SELFCTUB|SELFCTLB|SECDUPBD|SECDLWBD| CITING|SAME_STATE_COUNT|\n",
      "+-------+-----+-----+-------+-------+-------+--------+-------+------+------+---+------+-----+--------+--------+-------+--------+--------+--------+--------+--------+--------+--------+-------+----------------+\n",
      "|3859627| 1975| 5485|   1972|     US|     MI|  332120|      2|    14|   180|  5|    55|    7|       2|     1.0|    0.5|  0.4082|    12.5|  6.8571|     0.0|     0.0|     0.0|     0.0|3859627|               1|\n",
      "|3860191| 1975| 5492|   1972|     US|     CA|  452885|      2|     5|   242|  5|    51|    4|       4|    0.75|    0.0|  0.4444|     5.0|    11.0|     0.0|     0.0|     0.0|     0.0|3860191|               1|\n",
      "|3861180| 1975| 5499|   1973|     US|     AZ|    null|      1|     3|    70|  6|    65|    5|      12|     0.4| 0.5972|     0.5| 11.1667|    27.6|    null|    null|    null|    null|3861180|               1|\n",
      "|3861473| 1975| 5499|   1974|     US|     MA|  187925|      2|    15|   169|  6|    69|    2|       0|     1.0|   null|     0.0|    null|     1.0|     0.0|     0.0|    null|    null|3861473|               2|\n",
      "|3862577| 1975| 5506|   1973|     US|     MI|   47895|      2|     6|    74|  5|    59|    5|       1|     0.2|    0.0|     0.0|    23.0|    35.4|     0.0|     0.0|     0.0|     0.0|3862577|               1|\n",
      "|3862844| 1975| 5506|   1972|     US|     PA|   96565|      2|    12|   501|  1|    19|   11|       2|  0.3636|    0.5|   0.625|     6.0| 20.3636|     0.0|     0.0|     0.0|     0.0|3862844|               1|\n",
      "|3863090| 1975| 5506|   1973|     US|     NY|  280070|      2|     6|   313|  4|    42|    3|       4|     1.0|  0.625|  0.6667|     8.0|     2.0|  0.3333|  0.3333|     0.0|     0.0|3863090|               1|\n",
      "|3863935| 1975| 5513|   1974|     US|     MI|    null|      1|     4|   277|  6|    67|    7|       1|  0.5714|    0.0|     0.0|    22.0| 15.1429|    null|    null|    null|    null|3863935|               1|\n",
      "|3864160| 1975| 5513|   1973|     US|     NY|    null|      1|     7|   428|  6|    69|    3|       1|     1.0|    0.0|  0.6667|    11.0|  6.6667|    null|    null|    null|    null|3864160|               1|\n",
      "|3864244| 1975| 5513|   1973|     US|     IL|  600400|      2|     8|   208|  1|    19|    3|       6|     1.0| 0.4444|  0.4444|    12.5|  5.6667|     0.5|  0.3333|     0.5|     0.5|3864244|               2|\n",
      "|3864539| 1975| 5513|   1974|     US|     CA|    null|      1|    15|   200|  4|    41|    6|       7|  0.6667| 0.5714|     0.5|  7.1429| 18.3333|    null|    null|    null|    null|3864539|               1|\n",
      "|3864676| 1975| 5513|   1973|     US|     CA|    null|      1|    10|   600|  3|    32|   14|       4|  0.5714|  0.375|    0.75|     6.0| 10.1429|    null|    null|    null|    null|3864676|               3|\n",
      "|3865697| 1975| 5520|   1973|     US|     IL|    null|      1|     5|   205|  1|    19|    5|       5|     0.8|   0.64|     0.0|    15.2|    12.2|    null|    null|    null|    null|3865697|               1|\n",
      "|3866515| 1975| 5527|   1973|     US|     NY|  597185|      6|    11|    89|  5|    59|    3|       2|  0.6667|    0.0|     0.0|    17.5|  9.3333|     1.0|  0.6667|     0.0|     0.0|3866515|               2|\n",
      "|3869420| 1975| 5541|   1972|     US|     MO|  759416|      2|    13|   524|  1|    15|    9|      19|  0.3333| 0.3601|  0.6667|  9.4211| 21.4444|  0.3333|  0.1111|  0.1765|  0.1579|3869420|               1|\n",
      "|3870200| 1975| 5548|   1973|     US|     CA|  534915|      2|    11|   222|  1|    19|    5|      25|     0.6|    0.0|     0.0|    14.0|    15.0|     0.0|     0.0|    0.05|    0.04|3870200|               1|\n",
      "|3871850| 1975| 5555|   1973|     US|     MI|  182940|      2|     1|    55|  1|    13|    7|      10|  0.7143|   0.68|    0.64|    11.2|  7.5714|     0.2|  0.1429|     0.0|     0.0|3871850|               1|\n",
      "|3872884| 1975| 5562|   1972|     US|     OH|  429360|      2|     8|   137|  6|    69|    9|      16|  0.6667| 0.4219|     0.0| 16.5625| 10.7778|     0.0|     0.0|     0.0|     0.0|3872884|               3|\n",
      "|3874676| 1975| 5569|   1974|     US|     PA|   90590|      2|     7|   277|  6|    67|    6|       3|  0.8333| 0.4444|    0.32|  9.6667| 10.1667|  0.3333|  0.1667|     0.5|  0.3333|3874676|               1|\n",
      "|3875809| 1975| 5576|   1973|     US|     IL|  413050|      2|    11|    74|  5|    59|    5|       1|     0.6|    0.0|     0.0|     2.0|     8.8|     0.0|     0.0|     1.0|     1.0|3875809|               2|\n",
      "+-------+-----+-----+-------+-------+-------+--------+-------+------+------+---+------+-----+--------+--------+-------+--------+--------+--------+--------+--------+--------+--------+-------+----------------+\n",
      "only showing top 20 rows\n",
      "\n"
     ]
    }
   ],
   "source": [
    "finalOutput = patents.join(citingSameStateCount, patents.PATENT == citingSameStateCount.CITING, 'inner')\n",
    "finalOutput.show()"
   ]
  },
  {
   "cell_type": "markdown",
   "metadata": {},
   "source": [
    "This is to obtain the Final Required Output, which is to show the top 10 results when the count of the same-state citations is in the descending order."
   ]
  },
  {
   "cell_type": "code",
   "execution_count": 16,
   "metadata": {},
   "outputs": [
    {
     "name": "stdout",
     "output_type": "stream",
     "text": [
      "+-------+-----+-----+-------+-------+-------+--------+-------+------+------+---+------+-----+--------+--------+-------+--------+--------+--------+--------+--------+--------+--------+-------+----------------+\n",
      "| PATENT|GYEAR|GDATE|APPYEAR|COUNTRY|POSTATE|ASSIGNEE|ASSCODE|CLAIMS|NCLASS|CAT|SUBCAT|CMADE|CRECEIVE|RATIOCIT|GENERAL|ORIGINAL|FWDAPLAG|BCKGTLAG|SELFCTUB|SELFCTLB|SECDUPBD|SECDLWBD| CITING|SAME_STATE_COUNT|\n",
      "+-------+-----+-----+-------+-------+-------+--------+-------+------+------+---+------+-----+--------+--------+-------+--------+--------+--------+--------+--------+--------+--------+-------+----------------+\n",
      "|5959466| 1999|14515|   1997|     US|     CA|    5310|      2|  null|   326|  4|    46|  159|       0|     1.0|   null|  0.6186|    null|  4.8868|  0.0455|   0.044|    null|    null|5959466|             125|\n",
      "|5983822| 1999|14564|   1998|     US|     TX|  569900|      2|  null|   114|  5|    55|  200|       0|   0.995|   null|  0.7201|    null|   12.45|     0.0|     0.0|    null|    null|5983822|             103|\n",
      "|6008204| 1999|14606|   1998|     US|     CA|  749584|      2|  null|   514|  3|    31|  121|       0|     1.0|   null|  0.7415|    null|     5.0|  0.0085|  0.0083|    null|    null|6008204|             100|\n",
      "|5952345| 1999|14501|   1997|     US|     CA|  749584|      2|  null|   514|  3|    31|  118|       0|     1.0|   null|  0.7442|    null|  5.1102|     0.0|     0.0|    null|    null|5952345|              98|\n",
      "|5958954| 1999|14515|   1997|     US|     CA|  749584|      2|  null|   514|  3|    31|  116|       0|     1.0|   null|  0.7397|    null|   5.181|     0.0|     0.0|    null|    null|5958954|              96|\n",
      "|5998655| 1999|14585|   1998|     US|     CA|    null|      1|  null|   560|  1|    14|  114|       0|     1.0|   null|  0.7387|    null|  5.1667|    null|    null|    null|    null|5998655|              96|\n",
      "|5936426| 1999|14466|   1997|     US|     CA|    5310|      2|  null|   326|  4|    46|  178|       0|     1.0|   null|    0.58|    null| 11.2303|  0.0765|   0.073|    null|    null|5936426|              94|\n",
      "|5978329| 1999|14550|   1995|     US|     CA|  148925|      2|  null|   369|  2|    24|  145|       0|     1.0|   null|  0.5449|    null| 12.9241|  0.4196|  0.4138|    null|    null|5978329|              90|\n",
      "|5925042| 1999|14445|   1997|     US|     CA|  733846|      2|  null|   606|  3|    32|  242|       0|     1.0|   null|  0.7382|    null|  8.3471|     0.0|     0.0|    null|    null|5925042|              90|\n",
      "|5951547| 1999|14501|   1997|     US|     CA|  733846|      2|  null|   606|  3|    32|  242|       0|     1.0|   null|  0.7382|    null|  8.3471|     0.0|     0.0|    null|    null|5951547|              90|\n",
      "+-------+-----+-----+-------+-------+-------+--------+-------+------+------+---+------+-----+--------+--------+-------+--------+--------+--------+--------+--------+--------+--------+-------+----------------+\n",
      "only showing top 10 rows\n",
      "\n"
     ]
    }
   ],
   "source": [
    "finalRequiredOutput = finalOutput.orderBy('SAME_STATE_COUNT',ascending=False).show(10)"
   ]
  },
  {
   "cell_type": "code",
   "execution_count": null,
   "metadata": {},
   "outputs": [],
   "source": []
  }
 ],
 "metadata": {
  "kernelspec": {
   "display_name": "Python 3",
   "language": "python",
   "name": "python3"
  },
  "language_info": {
   "codemirror_mode": {
    "name": "ipython",
    "version": 3
   },
   "file_extension": ".py",
   "mimetype": "text/x-python",
   "name": "python",
   "nbconvert_exporter": "python",
   "pygments_lexer": "ipython3",
   "version": "3.8.5"
  }
 },
 "nbformat": 4,
 "nbformat_minor": 4
}
